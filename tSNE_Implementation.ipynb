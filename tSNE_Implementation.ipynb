{
  "nbformat": 4,
  "nbformat_minor": 0,
  "metadata": {
    "kernelspec": {
      "display_name": "Python 3",
      "language": "python",
      "name": "python3"
    },
    "language_info": {
      "codemirror_mode": {
        "name": "ipython",
        "version": 3
      },
      "file_extension": ".py",
      "mimetype": "text/x-python",
      "name": "python",
      "nbconvert_exporter": "python",
      "pygments_lexer": "ipython3",
      "version": "3.7.4"
    },
    "colab": {
      "name": "tSNE_Implementation.ipynb",
      "provenance": [],
      "include_colab_link": true
    }
  },
  "cells": [
    {
      "cell_type": "markdown",
      "metadata": {
        "id": "view-in-github",
        "colab_type": "text"
      },
      "source": [
        "<a href=\"https://colab.research.google.com/github/ruygonzalez/tSNE/blob/master/tSNE_Implementation.ipynb\" target=\"_parent\"><img src=\"https://colab.research.google.com/assets/colab-badge.svg\" alt=\"Open In Colab\"/></a>"
      ]
    },
    {
      "cell_type": "markdown",
      "metadata": {
        "id": "siIjmGpNXDfI",
        "colab_type": "text"
      },
      "source": [
        "# tSNE Implementation\n",
        "Ruy Gonzalez Hermosillo"
      ]
    },
    {
      "cell_type": "markdown",
      "metadata": {
        "id": "J8PXhJP6YAaf",
        "colab_type": "text"
      },
      "source": [
        "# This is the implementation of tSNE from scratch, based on Algorithm 1 in the tSNE paper: http://www.jmlr.org/papers/volume9/vandermaaten08a/vandermaaten08a.pdf"
      ]
    },
    {
      "cell_type": "markdown",
      "metadata": {
        "id": "4xqOzzLMXDfK",
        "colab_type": "text"
      },
      "source": [
        "First, we implement tSNE. Technically, first we import packages, then we define some helper functions to keep the tSNE code more consise"
      ]
    },
    {
      "cell_type": "code",
      "metadata": {
        "id": "gm0daG8eXDfL",
        "colab_type": "code",
        "colab": {}
      },
      "source": [
        "# Import packages to help with the matrix algebra/random number generation\n",
        "# along with the plotting\n",
        "import matplotlib.pyplot as plt\n",
        "import numpy as np\n",
        "import scipy as sp\n",
        "from scipy.spatial import distance\n",
        "import random\n",
        "import math\n",
        "\n",
        "random.seed(2020)\n",
        "np.random.seed(2020)"
      ],
      "execution_count": 0,
      "outputs": []
    },
    {
      "cell_type": "code",
      "metadata": {
        "id": "D5jsUUqeXDfT",
        "colab_type": "code",
        "colab": {}
      },
      "source": [
        "# Note that we calculate pairwise Euclidean distance several times, \n",
        "# but this can be done using Matrix multiplication (so that we can do it faster)\n",
        "# The math comes from: https://math.stackexchange.com/questions/3147549/compute-the-pairwise-euclidean-distance-matrix/3147556\n",
        "# Basically the distance matrix D = ||X||^2 + ||(X^T)^2|| - 2XX^T\n",
        "# Where X represents the points we want to compute the distance between\n",
        "# So D[i][j] = the squared Euclidean distance between X_i and X_j\n",
        "\n",
        "def getSquaredDistanceMatrix(X):\n",
        "    X_sq = np.sum(np.square(X), 1) # this is ||X||^2\n",
        "    return X_sq + (X_sq - 2 * np.dot(X, X.T)).T\n",
        "\n",
        "# This function calculates the perplexity\n",
        "def getPerplexity(distance_matrix, sigma, i):\n",
        "    # First we have to find the conditional probability matrix \n",
        "    # using the given distance matrix and sigma\n",
        "   \n",
        "    # x now contains the terms in the exponent \n",
        "    x = (-distance_matrix) / (2. * np.square(sigma))\n",
        "\n",
        "    # We exponentiate\n",
        "    e_x = np.exp(x)\n",
        "    \n",
        "    # we get errors when we take the log of zero\n",
        "    # so we add a small constant for stability\n",
        "    e_x = e_x + (10 ** (-10))\n",
        "    \n",
        "    # we divide every entry by the sum\n",
        "    P = e_x / e_x.sum(axis = 1).reshape([-1, 1])\n",
        "    \n",
        "    # calculate the Shannon entropy\n",
        "    H_p = -np.sum(P * np.log2(P), 1)\n",
        "    perplexity = 2 ** H_p\n",
        "    \n",
        "    # we also return the ith row which is the row we want to use if the perplexity\n",
        "    # is close to what we want\n",
        "    return perplexity\n",
        "    \n",
        "\n",
        "# This function finds the desired sigma for a given row using binary search\n",
        "# (finds the sigma that gets us close to the desired perplexity)\n",
        "def findSigma(distance_matrix, perp, i):\n",
        "    epsilon = 10 ** (-4)\n",
        "    iters = 0 # we want to limit the number of iterations too so we don't get stuck\n",
        "        \n",
        "    lower_bound = 10 ** (-8)\n",
        "    upper_bound = 10 ** (3)\n",
        "    sigma = (lower_bound + upper_bound) / 2.0\n",
        "    this_perplexity = getPerplexity(distance_matrix[i:i + 1, :], sigma, i)\n",
        "        \n",
        "    while (abs(this_perplexity - perp) > epsilon and iters < 100):\n",
        "        if (this_perplexity > perp):\n",
        "            upper_bound = sigma\n",
        "        else:\n",
        "            lower_bound = sigma\n",
        "        sigma = (lower_bound + upper_bound) / 2.0\n",
        "        this_perplexity = getPerplexity(distance_matrix[i:i + 1, :], sigma, i)\n",
        "        iters += 1\n",
        "    return sigma\n",
        "\n",
        "# Now we can simply go through each row (cell) and find the optimal sigma\n",
        "# (but more importantly, the conditonal probability row using this sigma)\n",
        "# and this makes up P\n",
        "def getP(data, perp):\n",
        "    distance_matrix = getSquaredDistanceMatrix(data)\n",
        "    \n",
        "    (n, _) = data.shape\n",
        "    sigmas = []\n",
        "    for i in range(n):\n",
        "        sigmas.append(findSigma(distance_matrix, perp, i))\n",
        "    \n",
        "    # Now we have the distance matrix and the sigmas\n",
        "    # we can do some linear algebra to get P\n",
        "    # Note that this code is identical to how we calcualte perplexity\n",
        "    # since calculating perplexity involves building this matrix \n",
        "    # although there we only do it for one row\n",
        "    x = -distance_matrix / (2. * np.square(np.array(sigmas).reshape((-1, 1))))\n",
        "    P = np.exp(x)\n",
        "    \n",
        "    # we make sure the diagonals are zero\n",
        "    np.fill_diagonal(P, 0.)\n",
        "        \n",
        "    # Note that we make this symmetric in the tSNE method\n",
        "    # so the last step is to divide each entry by the sum of the entries in P\n",
        "    P /= P.sum(axis = 1)\n",
        "    return P"
      ],
      "execution_count": 0,
      "outputs": []
    },
    {
      "cell_type": "code",
      "metadata": {
        "id": "f38sSwkzXDfZ",
        "colab_type": "code",
        "colab": {}
      },
      "source": [
        "def getQ(Y):\n",
        "    # Here we compute the 2-d affinities using equation 4 in the paper\n",
        "    Q = np.zeros((len(Y), len(Y)))\n",
        "    \n",
        "    # First, we compute the numerator of each q_ij: (1 + ||y_i - y_j||^2)^-1\n",
        "    for i in range(len(Q)):\n",
        "        for j in range(len(Q)):\n",
        "            if (i == j):\n",
        "                Q[i][j] = 0\n",
        "            else:\n",
        "                Q[i][j] = np.power(1.0 + (distance.euclidean(Y[i], Y[j]) ** 2), -1)\n",
        "    \n",
        "    # Now we divide by the sum of all the entries in Q\n",
        "    Q = Q / np.sum(Q)\n",
        "    return Q"
      ],
      "execution_count": 0,
      "outputs": []
    },
    {
      "cell_type": "code",
      "metadata": {
        "id": "-wk0qOfjXDfd",
        "colab_type": "code",
        "colab": {}
      },
      "source": [
        "def getGrad(P, Q, Y):\n",
        "    # Here we compute the gradient using equation 5 in the paper\n",
        "    grad = []\n",
        "    PminQ = P - Q # each entry is P_ij - Q_ij\n",
        "    (r, c) = P.shape # note that this should be a square matrix\n",
        "    \n",
        "    for i in range(r):\n",
        "        total = np.zeros(2)\n",
        "        for j in range(c):\n",
        "            term = PminQ[i][j] * (Y[i] - Y[j])\n",
        "            term /= (1 + (distance.euclidean(Y[i], Y[j]) ** 2))\n",
        "            total += term\n",
        "        total *= 4\n",
        "        # Now we add this 2-d vector (terms) to the gradient vector\n",
        "        grad.append(total)\n",
        "    return grad"
      ],
      "execution_count": 0,
      "outputs": []
    },
    {
      "cell_type": "code",
      "metadata": {
        "id": "h6j4Jd0rXDfh",
        "colab_type": "code",
        "colab": {}
      },
      "source": [
        "def tsne(data, perp, num_iter, learning_rate):\n",
        "    '''\n",
        "    Input: \n",
        "    data is a matrix where cells are rows and gene expression (or any features) are columns\n",
        "    perp is an integer representing the perplexity used to find the sigmas\n",
        "    num_iter is an integer representing the number of iterations for the stochastic gradient descent\n",
        "    learning_rate is a float used to modify the low-dimensional representation \n",
        "    \n",
        "    Output: \n",
        "    The low dimensional data representation. This is another matrix where cells are columns, but with only 2 rows\n",
        "    (since we want a 2-D representation of the data)\n",
        "    '''\n",
        "    \n",
        "    (n, _) = data.shape # this gets the number of cells\n",
        "    \n",
        "    # first we compute pairwise affinities p_j|i\n",
        "    P = getP(data, perp)\n",
        "    \n",
        "    # next we make it symmetric\n",
        "    P = (P + np.transpose(P)) / (2 * n)\n",
        "    \n",
        "    # Next, we initialize a random low-dimensional (2-d) representation\n",
        "    # with small initial values\n",
        "    Y = np.random.rand(n, 2) / 10000.0 # this is to get very small values\n",
        "    \n",
        "    # Now we actually do the gradient descent \n",
        "    for i in range(num_iter):\n",
        "        # The t-SNE paper suggests \"early exaggeration\" at the beginning of P\n",
        "        # so we do that before anything else \n",
        "        if (i == 0):\n",
        "            P = P * 4\n",
        "        # but we have to reverse this eventually, we arbitrarily do this once\n",
        "        # we have gone through 1/10th of the total iterations\n",
        "        if (i == int(num_iter / 10)):\n",
        "            P = P / 4\n",
        "        \n",
        "        # we compute the 2-d affinities q_ij\n",
        "        Q = getQ(Y)\n",
        "        \n",
        "        # we compute the gradient \n",
        "        grad = getGrad(P, Q, Y)\n",
        "\n",
        "        # Now we update Y\n",
        "        Y -= learning_rate * np.asarray(grad)\n",
        "    \n",
        "    return Y"
      ],
      "execution_count": 0,
      "outputs": []
    },
    {
      "cell_type": "markdown",
      "metadata": {
        "id": "SbrC5l0GYHoO",
        "colab_type": "text"
      },
      "source": [
        "# Synthetic Data Generation from 3 Component Gaussian Mixture Model"
      ]
    },
    {
      "cell_type": "markdown",
      "metadata": {
        "id": "VCBaWjZ7XDfl",
        "colab_type": "text"
      },
      "source": [
        "Now we generate points from a 3 components Gaussian Mixture Model"
      ]
    },
    {
      "cell_type": "code",
      "metadata": {
        "id": "RwXPcboyXDfm",
        "colab_type": "code",
        "colab": {}
      },
      "source": [
        "def generatePoints(n, centroids, covs, weight1=1, weight2=1, weight3=1):\n",
        "    '''\n",
        "    Generates n points from a 3-component Gaussian Mixture model using the \n",
        "    array of covariances and centroids for each model\n",
        "    The weights are how much we weigh each distribution relative to the others. \n",
        "    By default they are all weighted the same (so a cell is equally likely\n",
        "    to have come from each of the distributions)\n",
        "    One more thing: we want to keep the labels (what distribution each point came from)\n",
        "    this lets us visualize better\n",
        "    '''\n",
        "    # First, we pick one of the three distributions\n",
        "    # The way we do this is by having an array of \"balls\" where each \n",
        "    # distribution has a number of balls equal to their weight (parameter)\n",
        "    # so if the weight is 1 for all, then there are 3 balls, each equally\n",
        "    # likely to be chosen (and thus each distribution is equally likely to be chosen)\n",
        "    # If there are 2 balls for distribution 1 and 1 for each of the other 2\n",
        "    # then there are 4 balls total and distribution 1 has a probability of 2/4\n",
        "    # of being chosen\n",
        "    balls = []\n",
        "    # we label each \"ball\" by the distribution we represent\n",
        "    for i in range(weight1):\n",
        "        balls.append(0) # we zero index the distributions\n",
        "    for i in range(weight2):\n",
        "        balls.append(1)\n",
        "    for i in range(weight3):\n",
        "        balls.append(2)\n",
        "        \n",
        "    chosen = [[] for x in range(n)]\n",
        "    labels = []\n",
        "    # Now we sample a \"ball\" or distribution randomly (we do this n times to get n points)\n",
        "    for i in range(n):\n",
        "        index = random.choice(balls) # this is the index of the chosen distribution\n",
        "        cent = centroids[index]\n",
        "        cov = covs[index]\n",
        "        # Now we generate 10 random numbers using a multivariate normal distribution\n",
        "        # with the chosen centroid and covariance\n",
        "        chosen[i] = np.random.multivariate_normal(cent, cov).tolist()\n",
        "        labels.append(index)\n",
        "    return np.asarray(chosen), np.asarray(labels)"
      ],
      "execution_count": 0,
      "outputs": []
    },
    {
      "cell_type": "code",
      "metadata": {
        "id": "NASRWlTVXDfr",
        "colab_type": "code",
        "colab": {}
      },
      "source": [
        "centroids = [[0,0,0,0,0,0,0,0,0,0], [15,3,15,3,15,3,15,3,15,3], [3,15,3,15,3,15,3,15,3,15]]\n",
        "covs = [np.diag((1, 1, 1, 1, 1, 1, 1, 1, 1, 1)), np.diag((1, 2, 3, 4, 5, 6, 7, 8, 9, 10)), np.diag((10, 9, 8, 7, 6, 5, 4, 3, 2, 1))]"
      ],
      "execution_count": 0,
      "outputs": []
    },
    {
      "cell_type": "code",
      "metadata": {
        "id": "6MSBOANyXDfu",
        "colab_type": "code",
        "colab": {}
      },
      "source": [
        "synthetic_data1, labels1 = generatePoints(400, centroids, covs)"
      ],
      "execution_count": 0,
      "outputs": []
    },
    {
      "cell_type": "code",
      "metadata": {
        "id": "VpcecsoBXDfx",
        "colab_type": "code",
        "colab": {}
      },
      "source": [
        "# first we choose a perplexity of 5 and a learning rate of 10\n",
        "Y1 = tsne(synthetic_data1, 5, 200, 10)"
      ],
      "execution_count": 0,
      "outputs": []
    },
    {
      "cell_type": "code",
      "metadata": {
        "id": "qkyyu4sdXDf1",
        "colab_type": "code",
        "colab": {},
        "outputId": "1fab0351-9790-4137-d979-ef0752346b63"
      },
      "source": [
        "x1 = Y1[:, 0]\n",
        "y1 = Y1[:, 1]\n",
        "plt.figure()\n",
        "plt.scatter(x1, y1, c=labels1)\n",
        "plt.title(\"tSNE plot of Synthetic Data (n = 400) with Perplexity of 5\")\n",
        "plt.show()"
      ],
      "execution_count": 0,
      "outputs": [
        {
          "output_type": "display_data",
          "data": {
            "image/png": "[encoded data removed]",
            "text/plain": [
              "<Figure size 432x288 with 1 Axes>"
            ]
          },
          "metadata": {
            "tags": [],
            "needs_background": "light"
          }
        }
      ]
    },
    {
      "cell_type": "code",
      "metadata": {
        "id": "8pm19XCNXDf8",
        "colab_type": "code",
        "colab": {}
      },
      "source": [
        "# Now we choose a perplexity of 50 and a learning rate of 10\n",
        "Y2 = tsne(synthetic_data1, 50, 200, 10)"
      ],
      "execution_count": 0,
      "outputs": []
    },
    {
      "cell_type": "code",
      "metadata": {
        "id": "ETNAevBiXDgE",
        "colab_type": "code",
        "colab": {},
        "outputId": "7cbfddc4-a84a-4584-ac3c-d9bb97c49b69"
      },
      "source": [
        "x2 = Y2[:, 0]\n",
        "y2 = Y2[:, 1]\n",
        "plt.figure()\n",
        "plt.scatter(x2, y2, c=labels1)\n",
        "plt.title(\"tSNE plot of Synthetic Data (n = 400) with Perplexity of 50\")\n",
        "plt.show()"
      ],
      "execution_count": 0,
      "outputs": [
        {
          "output_type": "display_data",
          "data": {
            "image/png": "[encoded data removed]",
            "text/plain": [
              "<Figure size 432x288 with 1 Axes>"
            ]
          },
          "metadata": {
            "tags": [],
            "needs_background": "light"
          }
        }
      ]
    },
    {
      "cell_type": "markdown",
      "metadata": {
        "id": "4KC5kJkIYM9C",
        "colab_type": "text"
      },
      "source": [
        "# PCA of Synthetic Data"
      ]
    },
    {
      "cell_type": "markdown",
      "metadata": {
        "id": "ChbWATdqXDgL",
        "colab_type": "text"
      },
      "source": [
        "Now we do PCA"
      ]
    },
    {
      "cell_type": "code",
      "metadata": {
        "id": "UZIorbyfXDgM",
        "colab_type": "code",
        "colab": {}
      },
      "source": [
        "# First, we mean center the data\n",
        "# We do this by updating each row (subtracting the row mean from each value in the row)\n",
        "D = np.transpose(synthetic_data1).copy()\n",
        "for row_index in range(len(D)):\n",
        "    row_mean = np.mean(synthetic_data1[:,row_index])\n",
        "    D[row_index,:] = [x - row_mean for x in synthetic_data1[:,row_index]]\n",
        "    \n",
        "# Now we calculate the mean-centered co-variance matrix\n",
        "# Note that we have m = 400 total cells\n",
        "m = 400\n",
        "sigma = (1.0 / (m - 1)) * (np.matmul(D, np.transpose(D)))"
      ],
      "execution_count": 0,
      "outputs": []
    },
    {
      "cell_type": "code",
      "metadata": {
        "id": "e0-Qj4zwXDgQ",
        "colab_type": "code",
        "colab": {}
      },
      "source": [
        "eig_values, eig_vectors = np.linalg.eig(sigma)\n",
        "# this is to sort the eigen values/vecotrs\n",
        "idx = eig_values.argsort()[::-1]   \n",
        "eigenValues = eig_values[idx]\n",
        "eigenVectors = eig_vectors[:,idx]"
      ],
      "execution_count": 0,
      "outputs": []
    },
    {
      "cell_type": "code",
      "metadata": {
        "id": "GRHG8kQyXDgT",
        "colab_type": "code",
        "colab": {},
        "outputId": "09c4fcd2-5b85-488e-df40-79430ec1afc4"
      },
      "source": [
        "# Here we project the mean centered data D along the first and second eigenvectors\n",
        "projection_pc1 = np.matmul(np.transpose(eigenVectors[:,0]), D)\n",
        "projection_pc2 = np.matmul(np.transpose(eigenVectors[:,1]), D)\n",
        "\n",
        "plt.figure()\n",
        "plt.scatter(projection_pc1, projection_pc2, c=labels1)\n",
        "plt.xlabel(\"PC1 Projection\")\n",
        "plt.ylabel(\"PC2 Projection\")\n",
        "plt.title(\"PCA of Mean Centered Synthetic Data\")\n",
        "plt.show()"
      ],
      "execution_count": 0,
      "outputs": [
        {
          "output_type": "display_data",
          "data": {
            "image/png": "[encoded data removed]",
            "text/plain": [
              "<Figure size 432x288 with 1 Axes>"
            ]
          },
          "metadata": {
            "tags": [],
            "needs_background": "light"
          }
        }
      ]
    },
    {
      "cell_type": "markdown",
      "metadata": {
        "id": "7yZ85LMTYRxa",
        "colab_type": "text"
      },
      "source": [
        "# Synthetic Data with Variance"
      ]
    },
    {
      "cell_type": "markdown",
      "metadata": {
        "id": "j5NjdqhBXDga",
        "colab_type": "text"
      },
      "source": [
        "Now we generate synthetic data where one of the components in the Gaussian Mixture model has higher variance compared to the other two (we also have a \"medium variance\" component and \"low variance\" component\" for comparison)"
      ]
    },
    {
      "cell_type": "code",
      "metadata": {
        "id": "1jkg3zBsXDgb",
        "colab_type": "code",
        "colab": {}
      },
      "source": [
        "centroids2 = [[-15,-15,-15,-15,-15,-15,-15,-15,-15,-15], [15,3,15,3,15,3,15,3,15,3], [3,15,3,15,3,15,3,15,3,15]]\n",
        "covs2 = [np.diag((10, 11, 12, 13, 14, 13, 12, 11, 15, 10)), np.diag((5, 5, 5, 5, 4, 6, 6, 4, 5, 6)), np.diag((2, 4, 3, 2, 1, 3, 2, 3, 2, 1))]"
      ],
      "execution_count": 0,
      "outputs": []
    },
    {
      "cell_type": "code",
      "metadata": {
        "id": "obZeMGIoXDgg",
        "colab_type": "code",
        "colab": {}
      },
      "source": [
        "synthetic_data2, labels2 = generatePoints(100, centroids2, covs2)"
      ],
      "execution_count": 0,
      "outputs": []
    },
    {
      "cell_type": "code",
      "metadata": {
        "id": "D8-LUL9-XDgi",
        "colab_type": "code",
        "colab": {}
      },
      "source": [
        "# Here we choose a perplexity of 5\n",
        "Y2 = tsne(synthetic_data2, 5, 200, 10)"
      ],
      "execution_count": 0,
      "outputs": []
    },
    {
      "cell_type": "code",
      "metadata": {
        "id": "rG0y1TA7XDgl",
        "colab_type": "code",
        "colab": {},
        "outputId": "a63d4474-153b-4307-ecb3-ce536cc361f4"
      },
      "source": [
        "x2 = Y2[:, 0]\n",
        "y2 = Y2[:, 1]\n",
        "label_dict = {0: 'High Variance', 1: 'Medium variance', 2: 'Low Variance'}\n",
        "color_dict = {0: 'red', 1: 'blue', 2: 'green'}\n",
        "fig, ax = plt.subplots()\n",
        "for label in np.unique(labels2):\n",
        "    index = np.where(labels2 == label)\n",
        "    ax.scatter(x2[index], y2[index], c = color_dict[label], label = label_dict[label], s = 100)\n",
        "ax.legend()\n",
        "plt.title(\"tSNE Plot of Mixed Variance Synthetic Data (n = 100) with perplexity of 5\")\n",
        "plt.show()"
      ],
      "execution_count": 0,
      "outputs": [
        {
          "output_type": "display_data",
          "data": {
            "image/png": "[encoded data removed]",
            "text/plain": [
              "<Figure size 432x288 with 1 Axes>"
            ]
          },
          "metadata": {
            "tags": [],
            "needs_background": "light"
          }
        }
      ]
    },
    {
      "cell_type": "code",
      "metadata": {
        "id": "n80lVP6bXDgp",
        "colab_type": "code",
        "colab": {}
      },
      "source": [
        "# Here we choose a perplexity of 20\n",
        "Y3 = tsne(synthetic_data2, 20, 200, 10)"
      ],
      "execution_count": 0,
      "outputs": []
    },
    {
      "cell_type": "code",
      "metadata": {
        "id": "PPHKxg-AXDgs",
        "colab_type": "code",
        "colab": {},
        "outputId": "ed077fc1-7b4a-4f51-d77b-23e2e6a6428a"
      },
      "source": [
        "x3 = Y3[:, 0]\n",
        "y3 = Y3[:, 1]\n",
        "label_dict = {0: 'High Variance', 1: 'Medium variance', 2: 'Low Variance'}\n",
        "color_dict = {0: 'red', 1: 'blue', 2: 'green'}\n",
        "fig, ax = plt.subplots()\n",
        "for label in np.unique(labels2):\n",
        "    index = np.where(labels2 == label)\n",
        "    ax.scatter(x3[index], y3[index], c = color_dict[label], label = label_dict[label], s = 100)\n",
        "ax.legend()\n",
        "plt.title(\"tSNE Plot of Mixed Variance Synthetic Data (n = 100) with perplexity of 20\")\n",
        "plt.show()"
      ],
      "execution_count": 0,
      "outputs": [
        {
          "output_type": "display_data",
          "data": {
            "image/png": "[encoded data removed]",
            "text/plain": [
              "<Figure size 432x288 with 1 Axes>"
            ]
          },
          "metadata": {
            "tags": [],
            "needs_background": "light"
          }
        }
      ]
    },
    {
      "cell_type": "markdown",
      "metadata": {
        "id": "X8mCw5W4XDgv",
        "colab_type": "text"
      },
      "source": [
        "Below we do the PCA plot for this data"
      ]
    },
    {
      "cell_type": "code",
      "metadata": {
        "id": "7-n3umAaXDgw",
        "colab_type": "code",
        "colab": {},
        "outputId": "4a0af5e7-5ffc-422f-8010-a704a4171980"
      },
      "source": [
        "# First, we mean center the data\n",
        "# We do this by updating each row (subtracting the row mean from each value in the row)\n",
        "D2 = np.transpose(synthetic_data2).copy()\n",
        "for row_index in range(len(D2)):\n",
        "    row_mean = np.mean(synthetic_data2[:,row_index])\n",
        "    D2[row_index,:] = [x - row_mean for x in synthetic_data2[:,row_index]]\n",
        "    \n",
        "# Now we calculate the mean-centered co-variance matrix\n",
        "# Note that we have m = 100 total cells\n",
        "m2 = 100\n",
        "sigma2 = (1.0 / (m2 - 1)) * (np.matmul(D2, np.transpose(D2)))\n",
        "\n",
        "eig_values2, eig_vectors2 = np.linalg.eig(sigma2)\n",
        "# this is to sort the eigen values/vecotrs\n",
        "idx2 = eig_values2.argsort()[::-1]   \n",
        "eigenValues2 = eig_values2[idx2]\n",
        "eigenVectors2 = eig_vectors2[:,idx2]\n",
        "\n",
        "# Here we project the mean centered data D2 along the first and second eigenvectors\n",
        "projection_pc1b = np.matmul(np.transpose(eigenVectors2[:,0]), D2)\n",
        "projection_pc2b = np.matmul(np.transpose(eigenVectors2[:,1]), D2)\n",
        "\n",
        "fig, ax = plt.subplots()\n",
        "for label in np.unique(labels2):\n",
        "    index = np.where(labels2 == label)\n",
        "    ax.scatter(projection_pc1b[index], projection_pc2b[index], c = color_dict[label], label = label_dict[label], s = 100)\n",
        "ax.legend()\n",
        "plt.xlabel(\"PC1 Projection\")\n",
        "plt.ylabel(\"PC2 Projection\")\n",
        "plt.title(\"PCA of Mean Centered Synthetic Data (with varying variances)\")\n",
        "plt.show()"
      ],
      "execution_count": 0,
      "outputs": [
        {
          "output_type": "display_data",
          "data": {
            "image/png": "[encoded data removed]",
            "text/plain": [
              "<Figure size 432x288 with 1 Axes>"
            ]
          },
          "metadata": {
            "tags": [],
            "needs_background": "light"
          }
        }
      ]
    },
    {
      "cell_type": "markdown",
      "metadata": {
        "id": "xQo-QZa-YbeU",
        "colab_type": "text"
      },
      "source": [
        "# Synthetic Data Analysis where one component accounts for 50% of data"
      ]
    },
    {
      "cell_type": "markdown",
      "metadata": {
        "id": "N5yRFXP2XDg2",
        "colab_type": "text"
      },
      "source": [
        "Now we generate synthetic data where all the mixture components have the same covariance matrix. \n",
        "The centroids are still well separated. But now the points come disproportionally from each distribution/mixture component. Now points are twice as likely to come from the first component as the second or third component (50-25-25 split)"
      ]
    },
    {
      "cell_type": "code",
      "metadata": {
        "id": "wLyuc8HbXDg3",
        "colab_type": "code",
        "colab": {}
      },
      "source": [
        "centroids3 = [[0,0,0,0,0,0,0,0,0,0], [15,7,15,7,15,7,15,7,15,7], [7,15,7,15,7,15,7,15,7,15]]\n",
        "covs3 = [np.diag((3, 3, 3, 3, 3, 3, 3, 3, 3, 3)), np.diag((3, 3, 3, 3, 3, 3, 3, 3, 3, 3)), np.diag((3, 3, 3, 3, 3, 3, 3, 3, 3, 3))]"
      ],
      "execution_count": 0,
      "outputs": []
    },
    {
      "cell_type": "code",
      "metadata": {
        "id": "BVdNWAE5XDg_",
        "colab_type": "code",
        "colab": {}
      },
      "source": [
        "synthetic_data3, labels3 = generatePoints(100, centroids2, covs2, 2, 1, 1)"
      ],
      "execution_count": 0,
      "outputs": []
    },
    {
      "cell_type": "code",
      "metadata": {
        "id": "97dk8aa3XDhD",
        "colab_type": "code",
        "colab": {}
      },
      "source": [
        "# Here we choose a perplexity of 5\n",
        "Y4 = tsne(synthetic_data3, 5, 200, 10)"
      ],
      "execution_count": 0,
      "outputs": []
    },
    {
      "cell_type": "code",
      "metadata": {
        "id": "yod1sECIXDhG",
        "colab_type": "code",
        "colab": {},
        "outputId": "2d2a7035-50ce-4bd6-dc84-22d3227596c4"
      },
      "source": [
        "x4 = Y4[:, 0]\n",
        "y4 = Y4[:, 1]\n",
        "label_dict2 = {0: '50% of data', 1: '25% of data', 2: '25% of data'}\n",
        "color_dict = {0: 'red', 1: 'blue', 2: 'green'}\n",
        "fig, ax = plt.subplots()\n",
        "for label in np.unique(labels3):\n",
        "    index = np.where(labels3 == label)\n",
        "    ax.scatter(x4[index], y4[index], c = color_dict[label], label = label_dict2[label], s = 100)\n",
        "ax.legend()\n",
        "plt.title(\"tSNE Plot of Synthetic Data (n = 100) with perplexity of 5\")\n",
        "plt.show()"
      ],
      "execution_count": 0,
      "outputs": [
        {
          "output_type": "display_data",
          "data": {
            "image/png": "[encoded data removed]",
            "text/plain": [
              "<Figure size 432x288 with 1 Axes>"
            ]
          },
          "metadata": {
            "tags": [],
            "needs_background": "light"
          }
        }
      ]
    },
    {
      "cell_type": "code",
      "metadata": {
        "id": "17r2SKbUXDhI",
        "colab_type": "code",
        "colab": {}
      },
      "source": [
        "# Here we choose a perplexity of 20\n",
        "Y5 = tsne(synthetic_data3, 20, 200, 10)"
      ],
      "execution_count": 0,
      "outputs": []
    },
    {
      "cell_type": "code",
      "metadata": {
        "id": "P2crVqKZXDhL",
        "colab_type": "code",
        "colab": {},
        "outputId": "9195ac59-fe95-4e76-8b74-6d311e27551f"
      },
      "source": [
        "x5 = Y5[:, 0]\n",
        "y5 = Y5[:, 1]\n",
        "\n",
        "fig, ax = plt.subplots()\n",
        "for label in np.unique(labels3):\n",
        "    index = np.where(labels3 == label)\n",
        "    ax.scatter(x5[index], y5[index], c = color_dict[label], label = label_dict2[label], s = 100)\n",
        "ax.legend()\n",
        "plt.title(\"tSNE Plot of Synthetic Data (n = 100) with perplexity of 20\")\n",
        "plt.show()"
      ],
      "execution_count": 0,
      "outputs": [
        {
          "output_type": "display_data",
          "data": {
            "image/png": "[encoded data removed]",
            "text/plain": [
              "<Figure size 432x288 with 1 Axes>"
            ]
          },
          "metadata": {
            "tags": [],
            "needs_background": "light"
          }
        }
      ]
    },
    {
      "cell_type": "markdown",
      "metadata": {
        "id": "1Eos-ZRUXDhP",
        "colab_type": "text"
      },
      "source": [
        "Below we do PCA for this data"
      ]
    },
    {
      "cell_type": "code",
      "metadata": {
        "id": "a769gBcRXDhQ",
        "colab_type": "code",
        "colab": {},
        "outputId": "e4cb6cf6-adcd-4c63-b965-70e254d2e233"
      },
      "source": [
        "# First, we mean center the data\n",
        "# We do this by updating each row (subtracting the row mean from each value in the row)\n",
        "D3 = np.transpose(synthetic_data3).copy()\n",
        "for row_index in range(len(D3)):\n",
        "    row_mean = np.mean(synthetic_data3[:,row_index])\n",
        "    D3[row_index,:] = [x - row_mean for x in synthetic_data3[:,row_index]]\n",
        "    \n",
        "# Now we calculate the mean-centered co-variance matrix\n",
        "# Note that we have m = 100 total cells\n",
        "m3 = 100\n",
        "sigma3 = (1.0 / (m3 - 1)) * (np.matmul(D3, np.transpose(D3)))\n",
        "\n",
        "eig_values3, eig_vectors3 = np.linalg.eig(sigma3)\n",
        "# this is to sort the eigen values/vecotrs\n",
        "idx3 = eig_values3.argsort()[::-1]   \n",
        "eigenValues3 = eig_values3[idx3]\n",
        "eigenVectors3 = eig_vectors3[:,idx3]\n",
        "\n",
        "# Here we project the mean centered data D2 along the first and second eigenvectors\n",
        "projection_pc1c = np.matmul(np.transpose(eigenVectors3[:,0]), D3)\n",
        "projection_pc2c = np.matmul(np.transpose(eigenVectors3[:,1]), D3)\n",
        "\n",
        "fig, ax = plt.subplots()\n",
        "for label in np.unique(labels3):\n",
        "    index = np.where(labels3 == label)\n",
        "    ax.scatter(projection_pc1c[index], projection_pc2c[index], c = color_dict[label], label = label_dict2[label], s = 100)\n",
        "ax.legend()\n",
        "plt.xlabel(\"PC1 Projection\")\n",
        "plt.ylabel(\"PC2 Projection\")\n",
        "plt.title(\"PCA of Mean Centered Synthetic Data\")\n",
        "plt.show()"
      ],
      "execution_count": 0,
      "outputs": [
        {
          "output_type": "display_data",
          "data": {
            "image/png": "[encoded data removed]",
            "text/plain": [
              "<Figure size 432x288 with 1 Axes>"
            ]
          },
          "metadata": {
            "tags": [],
            "needs_background": "light"
          }
        }
      ]
    },
    {
      "cell_type": "markdown",
      "metadata": {
        "id": "HPvG5mXHXDhT",
        "colab_type": "text"
      },
      "source": [
        "# Analysis of Synthetic Data Results (tSNE and PCA)"
      ]
    },
    {
      "cell_type": "markdown",
      "metadata": {
        "id": "hcxs2GIPXDhU",
        "colab_type": "text"
      },
      "source": [
        "From the plots above, the first thing I observe is that as we increase the perplexity of t-SNE, the clusters get closer together. \n",
        "\n",
        "We see that the area of a tSNE blob is not indicative of the density of (or the amount of points in) the cluster. This is most clearly seen in the tSNE plot with perplexity 20 where 25% of the data is from the third distribution (green), but it is condensed into a tiny cluster in the plot, while blue cluster (representing the same percentage of the data) is much larger in size. This is because minimizing the tSNE cost function (well technically it has more to do with how we define the probability distributions $p_{j|i}$, whith the $\\sigma_i$ term, but also with the fact that we find a low-dimensional representation that preserves neighborhood clustering) pulls points that are close together even closer together (relative to $\\sigma_i$ and the perplexity) and points that are further apart even further apart. Especially with large perplexity, we see that we tend to consider more points to be \"close\" together, so they get drawn to their nearest cluster (which in turn makes the cluster even smaller, despite having more points). \n",
        "\n",
        "So we might think then that the variance of the data might be reflected by the tSNE blob size. It doesn't really appear to be the case with a perplexity of 5, but it does appear to be the case with a perplexity of 20, where the more variance a component in the Gaussian Mixture model has, the smaller the cluster of points that come from it is. Intutitively though, does this make sense? Well, we can think of variance as how much the points vary from the centroid on average (so it is effectively telling us distances). We chose the centroids and variances such that we shouldn't get any overlap in the clusters (they are clearly separated from each other in the synthetic data). So even with the high variance (at least in this case the way the centroids are chosen), tSNE should still be able to recognize which points belong to the same cluster and moreover, again because the perplexity (and thus the $\\sigma_i$'s) means that we judge distances between neighboring points locally, rather than globally, this shouldn't matter. This is why even with high variance (and thus with the points being far apart in the high dimensional space), the points in the red cluster in the tSNE plot (with perplexity 20) are close together in a small cluster. So is there any reason the cluster is the smallest according to the cost function? No, minimizing the tSNE cost function simply ensures that we preserve \"neighborhoods\". The size of the cluster as mentioned before, has more to do with $\\sigma_i$ and the chosen perplexity as even points that are further away (because of high variance) are still neighbors to each other with high perplexity, so the tSNE plot pulls them close together. \n",
        "\n",
        "Having said all this, what does the size of the tSNE blobs represent? Well we see that they vary a lot with the chosen perplexity and we keep mentioning that the perplexity is the reason that distances and density in high dimensional data are not necessarily reflected in the low-dimensional representation. And in fact, perplexity is what determines the size of the clusters. We can get tiny, dense clusters by choosing a very high perplexity (> 50) and we can get large clusters (with more spread out points) with small perplexity (< 5). This is because a high perplexity means that neighbors can have larger distances between them in the high dimensional space and still be considered \"neighbors\", which in turn means that minimizing the cost function involves getting these points artificially close together in the low-dimensional space. \n",
        "\n",
        "What about the cluster area/volume (if plotting 3 principal components) in the PCA plot? Well PCA simply tries to preserve the variance found in the high-dimensional space when projecting the data into lower dimensions. So we expect that the area/volume of each blob represents the variance of the points in the cluster along each principal dimension. So if we increase the variance, we expect larger blobs and similarly, if we increase the number of points, we expect more points to vary from the centroid, leading to larger blobs"
      ]
    }
  ]
}